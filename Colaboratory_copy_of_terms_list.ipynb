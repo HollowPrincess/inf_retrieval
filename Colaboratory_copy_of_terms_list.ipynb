{
  "nbformat": 4,
  "nbformat_minor": 0,
  "metadata": {
    "colab": {
      "name": "Colaboratory copy of terms_list.ipynb",
      "version": "0.3.2",
      "provenance": [],
      "collapsed_sections": []
    },
    "kernelspec": {
      "display_name": "Python 2",
      "language": "python",
      "name": "python2"
    }
  },
  "cells": [
    {
      "metadata": {
        "id": "tPI7N13bAkMS",
        "colab_type": "code",
        "colab": {
          "base_uri": "https://localhost:8080/",
          "height": 106
        },
        "outputId": "a7455b61-6c10-4236-9912-926dfe623086"
      },
      "cell_type": "code",
      "source": [
        "from sklearn.feature_extraction.text import TfidfVectorizer, CountVectorizer\n",
        "import numpy as np\n",
        "import os.path\n",
        "import zipfile\n",
        "!pip install googledrivedownloader"
      ],
      "execution_count": 94,
      "outputs": [
        {
          "output_type": "stream",
          "text": [
            "Collecting googledrivedownloader\n",
            "  Downloading https://files.pythonhosted.org/packages/7e/41/d59b2a5fcc7afeb40f23091694bd6e6a63ad118c93f834353ee5100285d5/googledrivedownloader-0.3-py2.py3-none-any.whl\n",
            "Installing collected packages: googledrivedownloader\n",
            "Successfully installed googledrivedownloader-0.3\n"
          ],
          "name": "stdout"
        }
      ]
    },
    {
      "metadata": {
        "id": "JJ5zbhZ_Hk-z",
        "colab_type": "code",
        "colab": {}
      },
      "cell_type": "code",
      "source": [
        "!mkdir collection"
      ],
      "execution_count": 0,
      "outputs": []
    },
    {
      "metadata": {
        "id": "edyflMmrH3-a",
        "colab_type": "code",
        "colab": {}
      },
      "cell_type": "code",
      "source": [
        "os.chdir('/content/collection')"
      ],
      "execution_count": 0,
      "outputs": []
    },
    {
      "metadata": {
        "id": "JkJ2JYlYHAtc",
        "colab_type": "code",
        "colab": {
          "base_uri": "https://localhost:8080/",
          "height": 34
        },
        "outputId": "a27092bf-166c-4ffe-ce85-d2041e6bbe00"
      },
      "cell_type": "code",
      "source": [
        "!pwd"
      ],
      "execution_count": 48,
      "outputs": [
        {
          "output_type": "stream",
          "text": [
            "/content/collection\n"
          ],
          "name": "stdout"
        }
      ]
    },
    {
      "metadata": {
        "id": "hA2O2GmGBx1V",
        "colab_type": "code",
        "colab": {
          "base_uri": "https://localhost:8080/",
          "height": 121
        },
        "outputId": "54f52fb1-abcb-4dca-f7d1-cd4b87478ebf"
      },
      "cell_type": "code",
      "source": [
        "#!wget https://drive.google.com/file/d/1JNAKsppNJDp6TZETf5liEcWbSwl8NnYX/view?usp=sharing\n",
        "  \n",
        "!wget https://drive.google.com/uc?export=download&confirm=no_antivirus&id=1JNAKsppNJDp6TZETf5liEcWbSwl8NnYX/\n",
        " "
      ],
      "execution_count": 93,
      "outputs": [
        {
          "output_type": "stream",
          "text": [
            "--2018-09-18 10:39:56--  https://drive.google.com/uc?export=download\n",
            "Resolving drive.google.com (drive.google.com)... 74.125.141.139, 74.125.141.100, 74.125.141.102, ...\n",
            "Connecting to drive.google.com (drive.google.com)|74.125.141.139|:443... connected.\n",
            "HTTP request sent, awaiting response... 400 Bad Request\n",
            "2018-09-18 10:39:56 ERROR 400: Bad Request.\n",
            "\n"
          ],
          "name": "stdout"
        }
      ]
    },
    {
      "metadata": {
        "id": "5dp7-olmR7_v",
        "colab_type": "code",
        "colab": {
          "base_uri": "https://localhost:8080/",
          "height": 52
        },
        "outputId": "f2bdf288-58ce-4e86-9011-69ad1c6a8baf"
      },
      "cell_type": "code",
      "source": [
        "from google_drive_downloader import GoogleDriveDownloader as gdd\n",
        "\n",
        "gdd.download_file_from_google_drive(file_id='1JNAKsppNJDp6TZETf5liEcWbSwl8NnYX',\n",
        "                                    dest_path='/content/collection/collection.zip',\n",
        "                                    unzip=True)"
      ],
      "execution_count": 95,
      "outputs": [
        {
          "output_type": "stream",
          "text": [
            "Downloading 1JNAKsppNJDp6TZETf5liEcWbSwl8NnYX into /content/collection/collection.zip... Done.\n",
            "Unzipping...Done.\n"
          ],
          "name": "stdout"
        }
      ]
    },
    {
      "metadata": {
        "id": "rpkOMR9AE0rm",
        "colab_type": "code",
        "colab": {
          "base_uri": "https://localhost:8080/",
          "height": 104
        },
        "outputId": "3510f5b1-0f3e-4beb-d064-c97248c70bc5"
      },
      "cell_type": "code",
      "source": [
        "!ls -lh"
      ],
      "execution_count": 105,
      "outputs": [
        {
          "output_type": "stream",
          "text": [
            "total 16K\n",
            "-rw-r--r-- 1 root root 438 Sep 18 10:47 star trek\n",
            "-rw-r--r-- 1 root root 599 Sep 18 10:47 star wars\n",
            "-rw-r--r-- 1 root root 751 Sep 18 10:47 The Hitchhikers Guide to the Galaxy book\n",
            "-rw-r--r-- 1 root root 321 Sep 18 10:47 The Hitchhikers Guide to the Galaxy movie\n"
          ],
          "name": "stdout"
        }
      ]
    },
    {
      "metadata": {
        "id": "5A-16lglIxwa",
        "colab_type": "code",
        "colab": {}
      },
      "cell_type": "code",
      "source": [
        "!rm \"collection.zip\"*\n"
      ],
      "execution_count": 0,
      "outputs": []
    },
    {
      "metadata": {
        "id": "EkT8C4nzAkNK",
        "colab_type": "code",
        "colab": {}
      },
      "cell_type": "code",
      "source": [
        "BASE_DIR = os.path.abspath('star trek')\n",
        "BASE_DIR = os.path.dirname(BASE_DIR)\n",
        "#BASE_DIR = BASE_DIR + '/docs/'"
      ],
      "execution_count": 0,
      "outputs": []
    },
    {
      "metadata": {
        "id": "5-uH9xPcAkNo",
        "colab_type": "code",
        "colab": {
          "base_uri": "https://localhost:8080/",
          "height": 86
        },
        "outputId": "59923569-7708-46e5-addc-bfc8ba1f0b5d"
      },
      "cell_type": "code",
      "source": [
        "collection=[]\n",
        "counter=1\n",
        "for doc in os.listdir(BASE_DIR):\n",
        "    collection.append(open(BASE_DIR+'/'+doc).read())  \n",
        "    print(str(counter) +' '+doc)\n",
        "    counter+=1"
      ],
      "execution_count": 116,
      "outputs": [
        {
          "output_type": "stream",
          "text": [
            "1 star wars\n",
            "2 The Hitchhikers Guide to the Galaxy movie\n",
            "3 The Hitchhikers Guide to the Galaxy book\n",
            "4 star trek\n"
          ],
          "name": "stdout"
        }
      ]
    },
    {
      "metadata": {
        "id": "D4pkDQfTAkOW",
        "colab_type": "code",
        "colab": {}
      },
      "cell_type": "code",
      "source": [
        "#print(collection)"
      ],
      "execution_count": 0,
      "outputs": []
    },
    {
      "metadata": {
        "id": "zhqXg_s3AkOw",
        "colab_type": "code",
        "colab": {}
      },
      "cell_type": "code",
      "source": [
        "tf_vectorizer = CountVectorizer(stop_words='english')\n",
        "tfidf_vectorizer = TfidfVectorizer(stop_words='english')"
      ],
      "execution_count": 0,
      "outputs": []
    },
    {
      "metadata": {
        "id": "IuEUUzshAkPF",
        "colab_type": "code",
        "colab": {}
      },
      "cell_type": "code",
      "source": [
        "tf_vectorizer = CountVectorizer()\n",
        "tfidf_vectorizer = TfidfVectorizer()"
      ],
      "execution_count": 0,
      "outputs": []
    },
    {
      "metadata": {
        "id": "z8IRnuRQAkPb",
        "colab_type": "code",
        "colab": {}
      },
      "cell_type": "code",
      "source": [
        "tf_docs_matrix=tf_vectorizer.fit_transform(collection)\n",
        "tfidf_docs_matrix=tfidf_vectorizer.fit_transform(collection)"
      ],
      "execution_count": 0,
      "outputs": []
    },
    {
      "metadata": {
        "id": "ktwbZvjdAkP0",
        "colab_type": "code",
        "colab": {}
      },
      "cell_type": "code",
      "source": [
        "current_voc=tf_vectorizer.get_feature_names()"
      ],
      "execution_count": 0,
      "outputs": []
    },
    {
      "metadata": {
        "id": "5HtVnxHMAkQY",
        "colab_type": "code",
        "colab": {}
      },
      "cell_type": "code",
      "source": [
        "#print(current_voc)"
      ],
      "execution_count": 0,
      "outputs": []
    },
    {
      "metadata": {
        "id": "5zYtKCLUAkRA",
        "colab_type": "code",
        "colab": {}
      },
      "cell_type": "code",
      "source": [
        "tf_docs_matrix=tf_docs_matrix.toarray()\n",
        "tfidf_docs_matrix=tfidf_docs_matrix.toarray()"
      ],
      "execution_count": 0,
      "outputs": []
    },
    {
      "metadata": {
        "id": "v8dOE4wpAkRw",
        "colab_type": "code",
        "colab": {}
      },
      "cell_type": "code",
      "source": [
        "#res=np.vstack((current_voc, tf_docs_matrix, tfidf_docs_matrix))"
      ],
      "execution_count": 0,
      "outputs": []
    },
    {
      "metadata": {
        "id": "Ffhin3yRAkSL",
        "colab_type": "code",
        "colab": {}
      },
      "cell_type": "code",
      "source": [
        "#print(res)"
      ],
      "execution_count": 0,
      "outputs": []
    },
    {
      "metadata": {
        "id": "YK-WyrdXAkSh",
        "colab_type": "code",
        "colab": {
          "base_uri": "https://localhost:8080/",
          "height": 139
        },
        "outputId": "e10e13b2-7a76-4b69-f6e3-25844c625311"
      },
      "cell_type": "code",
      "source": [
        "tf_vectorizer.set_params(vocabulary=np.array(current_voc))\n",
        "tfidf_vectorizer.set_params(vocabulary=np.array(current_voc))"
      ],
      "execution_count": 122,
      "outputs": [
        {
          "output_type": "execute_result",
          "data": {
            "text/plain": [
              "TfidfVectorizer(analyzer=u'word', binary=False, decode_error=u'strict',\n",
              "        dtype=<type 'numpy.int64'>, encoding=u'utf-8', input=u'content',\n",
              "        lowercase=True, max_df=1.0, max_features=None, min_df=1,\n",
              "        ngram_range=(1, 1), norm=u'l2', preprocessor=None, smooth_idf=True,\n",
              "        stop_words=None, strip_accents=None, sublinear_tf=False,\n",
              "        token_pattern=u'(?u)\\\\b\\\\w\\\\w+\\\\b', tokenizer=None, use_idf=True,\n",
              "        vocabulary=array([u'122', u'152', ..., u'zachary', u'zoe'], dtype='<U12'))"
            ]
          },
          "metadata": {
            "tags": []
          },
          "execution_count": 122
        }
      ]
    },
    {
      "metadata": {
        "id": "FzCKPGjmAkS-",
        "colab_type": "code",
        "colab": {}
      },
      "cell_type": "code",
      "source": [
        "query=['star wars starring']"
      ],
      "execution_count": 0,
      "outputs": []
    },
    {
      "metadata": {
        "id": "2Z3_RVezAkTO",
        "colab_type": "code",
        "colab": {}
      },
      "cell_type": "code",
      "source": [
        "query=['interesting science fiction book']"
      ],
      "execution_count": 0,
      "outputs": []
    },
    {
      "metadata": {
        "id": "MpX7JJAtAkTh",
        "colab_type": "code",
        "colab": {}
      },
      "cell_type": "code",
      "source": [
        "query=['the best movie']"
      ],
      "execution_count": 0,
      "outputs": []
    },
    {
      "metadata": {
        "id": "3FcrbVs7AkT2",
        "colab_type": "code",
        "colab": {}
      },
      "cell_type": "code",
      "source": [
        "query=['best movie']"
      ],
      "execution_count": 0,
      "outputs": []
    },
    {
      "metadata": {
        "id": "UcYZ4C2PAkUH",
        "colab_type": "code",
        "colab": {}
      },
      "cell_type": "code",
      "source": [
        "query_tf=tf_vectorizer.fit_transform(query)\n",
        "query_tfidf=tfidf_vectorizer.fit_transform(query)"
      ],
      "execution_count": 0,
      "outputs": []
    },
    {
      "metadata": {
        "id": "PBm8l0plAkUy",
        "colab_type": "code",
        "colab": {}
      },
      "cell_type": "code",
      "source": [
        "query_tf=query_tf.toarray()\n",
        "query_tfidf=query_tfidf.toarray()"
      ],
      "execution_count": 0,
      "outputs": []
    },
    {
      "metadata": {
        "id": "KUx7lfGjAkVS",
        "colab_type": "code",
        "colab": {}
      },
      "cell_type": "code",
      "source": [
        "relevance_tf=[]\n",
        "for doc in tf_docs_matrix[:]:   \n",
        "    relevance_tf.append(np.sum(doc*query_tf))"
      ],
      "execution_count": 0,
      "outputs": []
    },
    {
      "metadata": {
        "id": "s_6DxwajAkVl",
        "colab_type": "code",
        "colab": {
          "base_uri": "https://localhost:8080/",
          "height": 34
        },
        "outputId": "3d6431ca-746d-42c9-fbed-a2bd877716cc"
      },
      "cell_type": "code",
      "source": [
        "print(relevance_tf)"
      ],
      "execution_count": 127,
      "outputs": [
        {
          "output_type": "stream",
          "text": [
            "[5, 1, 0, 2]\n"
          ],
          "name": "stdout"
        }
      ]
    },
    {
      "metadata": {
        "id": "A_WrOph9AkWT",
        "colab_type": "code",
        "colab": {}
      },
      "cell_type": "code",
      "source": [
        "relevance_tfidf=[]\n",
        "for doc in tfidf_docs_matrix[:]:   \n",
        "    relevance_tfidf.append(np.sum(doc*query_tfidf))"
      ],
      "execution_count": 0,
      "outputs": []
    },
    {
      "metadata": {
        "id": "SdiJv7M_AkWv",
        "colab_type": "code",
        "colab": {
          "base_uri": "https://localhost:8080/",
          "height": 34
        },
        "outputId": "a1d82c81-5f01-44ab-ce3a-92fe02d2ff26"
      },
      "cell_type": "code",
      "source": [
        "print(relevance_tfidf)"
      ],
      "execution_count": 129,
      "outputs": [
        {
          "output_type": "stream",
          "text": [
            "[0.23126738396498664, 0.0556290466921651, 0.0, 0.10328959571204419]\n"
          ],
          "name": "stdout"
        }
      ]
    },
    {
      "metadata": {
        "id": "1OqHhy3aAkXL",
        "colab_type": "code",
        "colab": {}
      },
      "cell_type": "code",
      "source": [
        ""
      ],
      "execution_count": 0,
      "outputs": []
    }
  ]
}